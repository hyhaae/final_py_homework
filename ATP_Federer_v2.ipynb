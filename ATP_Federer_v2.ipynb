{
 "cells": [
  {
   "cell_type": "markdown",
   "metadata": {},
   "source": [
    "##  Predict win possibility for Roger Federer in Grand Slam series with tournament & surface type. \n",
    "\n",
    "![Picture](http://i1.mirror.co.uk/incoming/article9715462.ece/ALTERNATES/s1200/Switzerlands-Roger-Federer-celebrates-h.jpg)\n",
    "-[Australian Open 2017 Final (highlights HD)](https://www.youtube.com/watch?v=mFIOGpIQtVU&feature=share)\n",
    "\n",
    "\n",
    "## Reference\n",
    "-[Kaggle ATP 2000 to 2016 DB download](https://www.kaggle.com/jordangoblet/atp-tour-20002016)\n",
    "\n",
    "- Note: Read ATP data from 2000 to 2016. Only select Tournament, Series, Winner as a new table for analysis. "
   ]
  },
  {
   "cell_type": "code",
   "execution_count": 5,
   "metadata": {
    "collapsed": false
   },
   "outputs": [
    {
     "name": "stderr",
     "output_type": "stream",
     "text": [
      "/Users/johsieh/anaconda/lib/python3.5/site-packages/IPython/core/interactiveshell.py:2717: DtypeWarning: Columns (11,12) have mixed types. Specify dtype option on import or set low_memory=False.\n",
      "  interactivity=interactivity, compiler=compiler, result=result)\n"
     ]
    },
    {
     "data": {
      "text/html": [
       "<div>\n",
       "<table border=\"1\" class=\"dataframe\">\n",
       "  <thead>\n",
       "    <tr style=\"text-align: right;\">\n",
       "      <th></th>\n",
       "      <th>Series</th>\n",
       "      <th>Surface</th>\n",
       "      <th>Tournament</th>\n",
       "      <th>Winner</th>\n",
       "    </tr>\n",
       "  </thead>\n",
       "  <tbody>\n",
       "    <tr>\n",
       "      <th>155</th>\n",
       "      <td>Grand Slam</td>\n",
       "      <td>Hard</td>\n",
       "      <td>Australian Open</td>\n",
       "      <td>Agassi A.</td>\n",
       "    </tr>\n",
       "    <tr>\n",
       "      <th>156</th>\n",
       "      <td>Grand Slam</td>\n",
       "      <td>Hard</td>\n",
       "      <td>Australian Open</td>\n",
       "      <td>Alami K.</td>\n",
       "    </tr>\n",
       "    <tr>\n",
       "      <th>157</th>\n",
       "      <td>Grand Slam</td>\n",
       "      <td>Hard</td>\n",
       "      <td>Australian Open</td>\n",
       "      <td>Arazi H.</td>\n",
       "    </tr>\n",
       "    <tr>\n",
       "      <th>158</th>\n",
       "      <td>Grand Slam</td>\n",
       "      <td>Hard</td>\n",
       "      <td>Australian Open</td>\n",
       "      <td>Behrend T.</td>\n",
       "    </tr>\n",
       "    <tr>\n",
       "      <th>159</th>\n",
       "      <td>Grand Slam</td>\n",
       "      <td>Hard</td>\n",
       "      <td>Australian Open</td>\n",
       "      <td>Bjorkman J.</td>\n",
       "    </tr>\n",
       "  </tbody>\n",
       "</table>\n",
       "</div>"
      ],
      "text/plain": [
       "         Series Surface       Tournament       Winner\n",
       "155  Grand Slam    Hard  Australian Open    Agassi A.\n",
       "156  Grand Slam    Hard  Australian Open     Alami K.\n",
       "157  Grand Slam    Hard  Australian Open     Arazi H.\n",
       "158  Grand Slam    Hard  Australian Open   Behrend T.\n",
       "159  Grand Slam    Hard  Australian Open  Bjorkman J."
      ]
     },
     "execution_count": 5,
     "metadata": {},
     "output_type": "execute_result"
    }
   ],
   "source": [
    "import pandas as pd\n",
    "data = pd.read_csv (\"/Users/johsieh/desktop/atpdata.csv\",encoding = 'latin1') # It shows error which try to encoding to latin1\n",
    "#data.head() \n",
    "\n",
    "\n",
    "\n",
    "atp_train_dict = {\"Tournament\": data.Tournament,\n",
    "                  \"Series\": data.Series,\n",
    "                  \"Surface\": data.Surface, \n",
    "                  \"Winner\":data.Winner,\n",
    "                  \n",
    "}\n",
    "\n",
    "atp_data = pd.DataFrame(atp_train_dict)\n",
    "\n",
    "atp_train = atp_data.loc[atp_data['Series'] == 'Grand Slam']\n",
    "\n",
    "atp_train.head()\n",
    "\n"
   ]
  },
  {
   "cell_type": "markdown",
   "metadata": {},
   "source": [
    "## Build dummy variables\n",
    " - Encode variable Tournaments: Australia Open, French Open, US Open, Wimbledon \n",
    " - Ecode variable Surfaces: Hard, Clay, Grass \n",
    " - Encode result Players (Roger Federer=1 and Other Players=0)"
   ]
  },
  {
   "cell_type": "code",
   "execution_count": 16,
   "metadata": {
    "collapsed": false,
    "scrolled": true
   },
   "outputs": [
    {
     "name": "stdout",
     "output_type": "stream",
     "text": [
      "[0 0 0 ..., 0 0 0]\n"
     ]
    }
   ],
   "source": [
    "from sklearn.preprocessing import LabelEncoder\n",
    "\n",
    "label_encoder = LabelEncoder()\n",
    "encoded_Tournament = label_encoder.fit_transform(atp_train.Tournament)\n",
    "encoded_Surface = label_encoder.fit_transform(atp_train.Surface)\n",
    "encoded_Winner = label_encoder.fit_transform(atp_train.Winner == 'Federer R.')\n",
    "\n",
    "\n",
    "atp_train_x = pd.DataFrame([encoded_Tournament, encoded_Surface]).T\n",
    "atp_train_y = encoded_Winner\n",
    "\n",
    "print (atp_train_y)"
   ]
  },
  {
   "cell_type": "markdown",
   "metadata": {},
   "source": [
    "## Machine Learning - Classification\n",
    "\n",
    "- Separate data to test and train"
   ]
  },
  {
   "cell_type": "code",
   "execution_count": 13,
   "metadata": {
    "collapsed": true
   },
   "outputs": [],
   "source": [
    "from sklearn.cross_validation import train_test_split\n",
    "\n",
    "\n",
    "train_x, test_x, train_y, test_y = train_test_split(atp_train_x, atp_train_y, test_size = 0.3)"
   ]
  },
  {
   "cell_type": "markdown",
   "metadata": {},
   "source": [
    "## Methdology\n",
    " - Sklearn metrics, tree\n",
    " - Predict Accuracy "
   ]
  },
  {
   "cell_type": "code",
   "execution_count": 14,
   "metadata": {
    "collapsed": false
   },
   "outputs": [
    {
     "name": "stdout",
     "output_type": "stream",
     "text": [
      "0.961018911617\n"
     ]
    }
   ],
   "source": [
    "from sklearn import metrics, tree\n",
    "\n",
    "# building model\n",
    "decison_clf = tree.DecisionTreeClassifier(random_state = 87)\n",
    "decison_clf.fit(train_x, train_y)\n",
    "\n",
    "# predict\n",
    "test_y_predicted = decison_clf.predict(test_x)\n",
    "\n",
    "# accuracy\n",
    "accuracy = metrics.accuracy_score(test_y, test_y_predicted)\n",
    "print(accuracy)"
   ]
  },
  {
   "cell_type": "markdown",
   "metadata": {},
   "source": [
    "## Apply model on the data without answer "
   ]
  },
  {
   "cell_type": "code",
   "execution_count": null,
   "metadata": {
    "collapsed": true
   },
   "outputs": [],
   "source": [
    "url = \"www.ooo\"\n",
    "to_submit = pd.read_csv(url)\n",
    "\n",
    "to_submit_train = to_submit.loc[to_submit['Series'] == 'Grand Slam']\n",
    "\n",
    "# Arrange data as the same format to analysis\n",
    "encoded_Tournament = label_encoder.fit_transform(to_submit_train.Tournament)\n",
    "encoded_Surface = label_encoder.fit_transform(to_submit_train.Surface)\n",
    "encoded_Winner = label_encoder.fit_transform(to_submit_train.Winner == 'Federer R.')\n",
    "\n",
    "to_submit_X = pd.DataFrame([encoded_Tournament, encoded_Surface]).T\n",
    "\n",
    "# Predict\n",
    "to_submit_y = decison_clf.predict(to_submit_X)\n",
    "print(to_submit_y)\n",
    "\n",
    "# Prepare upload data\n",
    "to_submit_dict = {\n",
    "    \"Tournement\": to_submit[\"Tournament\"],\n",
    "    \"Surface\": to_submit[\"Surface\"],\n",
    "    \"Winner\": to_submit_y\n",
    "}\n",
    "\n",
    "to_submit_df = pd.DataFrame(to_submit_dict)\n",
    "\n",
    "# Output as csv file\n",
    "to_submit_df.to_csv(\"to_submit.csv\", index = False)"
   ]
  }
 ],
 "metadata": {
  "kernelspec": {
   "display_name": "Python 3",
   "language": "python",
   "name": "python3"
  },
  "language_info": {
   "codemirror_mode": {
    "name": "ipython",
    "version": 3
   },
   "file_extension": ".py",
   "mimetype": "text/x-python",
   "name": "python",
   "nbconvert_exporter": "python",
   "pygments_lexer": "ipython3",
   "version": "3.5.2"
  }
 },
 "nbformat": 4,
 "nbformat_minor": 1
}
