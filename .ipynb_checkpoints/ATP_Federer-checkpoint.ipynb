{
 "cells": [
  {
   "cell_type": "markdown",
   "metadata": {},
   "source": [
    "## Use database on Kaggle to predict win possibility for Roger Federer with Tornament & Surface. \n",
    "\n",
    "![Picture](http://i1.mirror.co.uk/incoming/article9715462.ece/ALTERNATES/s1200/Switzerlands-Roger-Federer-celebrates-h.jpg)\n",
    "-[Australian Open 2017 Final (highlights HD)](https://www.youtube.com/watch?v=mFIOGpIQtVU&feature=share)\n",
    "\n",
    "\n",
    "## Reference\n",
    "-[Kaggle ATP 2000 to 2016 DB download](https://www.kaggle.com/jordangoblet/atp-tour-20002016)\n",
    "\n",
    "- Note: Read ATP data from 2000 to 2016. Only select Tournament, Series, Winner as a new table for analysis. \n",
    "- To be update: sorted Grand Slam/Roger in excel. It should be sorted by python if Joyce has time to update."
   ]
  },
  {
   "cell_type": "code",
   "execution_count": 33,
   "metadata": {
    "collapsed": false
   },
   "outputs": [
    {
     "data": {
      "text/html": [
       "<div>\n",
       "<table border=\"1\" class=\"dataframe\">\n",
       "  <thead>\n",
       "    <tr style=\"text-align: right;\">\n",
       "      <th></th>\n",
       "      <th>Loser</th>\n",
       "      <th>Series</th>\n",
       "      <th>Surface</th>\n",
       "      <th>Tournament</th>\n",
       "      <th>Winner</th>\n",
       "    </tr>\n",
       "  </thead>\n",
       "  <tbody>\n",
       "    <tr>\n",
       "      <th>0</th>\n",
       "      <td>Puerta M.</td>\n",
       "      <td>Grand Slam</td>\n",
       "      <td>Hard</td>\n",
       "      <td>Australian Open</td>\n",
       "      <td>Agassi A.</td>\n",
       "    </tr>\n",
       "    <tr>\n",
       "      <th>1</th>\n",
       "      <td>Manta L.</td>\n",
       "      <td>Grand Slam</td>\n",
       "      <td>Hard</td>\n",
       "      <td>Australian Open</td>\n",
       "      <td>Alami K.</td>\n",
       "    </tr>\n",
       "    <tr>\n",
       "      <th>2</th>\n",
       "      <td>Alonso J.</td>\n",
       "      <td>Grand Slam</td>\n",
       "      <td>Hard</td>\n",
       "      <td>Australian Open</td>\n",
       "      <td>Arazi H.</td>\n",
       "    </tr>\n",
       "    <tr>\n",
       "      <th>3</th>\n",
       "      <td>Meligeni F.</td>\n",
       "      <td>Grand Slam</td>\n",
       "      <td>Hard</td>\n",
       "      <td>Australian Open</td>\n",
       "      <td>Behrend T.</td>\n",
       "    </tr>\n",
       "    <tr>\n",
       "      <th>4</th>\n",
       "      <td>Stoltenberg J.</td>\n",
       "      <td>Grand Slam</td>\n",
       "      <td>Hard</td>\n",
       "      <td>Australian Open</td>\n",
       "      <td>Bjorkman J.</td>\n",
       "    </tr>\n",
       "  </tbody>\n",
       "</table>\n",
       "</div>"
      ],
      "text/plain": [
       "            Loser      Series Surface       Tournament       Winner\n",
       "0       Puerta M.  Grand Slam    Hard  Australian Open    Agassi A.\n",
       "1        Manta L.  Grand Slam    Hard  Australian Open     Alami K.\n",
       "2       Alonso J.  Grand Slam    Hard  Australian Open     Arazi H.\n",
       "3     Meligeni F.  Grand Slam    Hard  Australian Open   Behrend T.\n",
       "4  Stoltenberg J.  Grand Slam    Hard  Australian Open  Bjorkman J."
      ]
     },
     "execution_count": 33,
     "metadata": {},
     "output_type": "execute_result"
    }
   ],
   "source": [
    "import pandas as pd\n",
    "data = pd.read_csv (\"/Users/johsieh/desktop/atpdatam.csv\",encoding = 'latin1') # It shows error which try to encoding to latin1\n",
    "#data.head() \n",
    "\n",
    "\n",
    "atp_train_dict = {\"Tournament\": data.Tournament,\n",
    "                  \"Series\": data.Series,\n",
    "                  \"Surface\": data.Surface, \n",
    "                  \"Winner\":data.Winner,\n",
    "                  \n",
    "}\n",
    "\n",
    "atp_train = pd.DataFrame(atp_train_dict)\n",
    "atp_train.head()\n",
    "\n"
   ]
  },
  {
   "cell_type": "markdown",
   "metadata": {},
   "source": [
    "## Build dummy variables\n",
    " - Encode variable Tournaments: Australia Open, French Open, US Open, Wimbledon \n",
    " - Ecode variable Surfaces: Hard, Clay, Grass \n",
    " - Encode result Players (Roger Federer=1 and Other Players=0)"
   ]
  },
  {
   "cell_type": "code",
   "execution_count": 1,
   "metadata": {
    "collapsed": false,
    "scrolled": true
   },
   "outputs": [
    {
     "ename": "NameError",
     "evalue": "name 'label_encoder' is not defined",
     "output_type": "error",
     "traceback": [
      "\u001b[0;31m---------------------------------------------------------------------------\u001b[0m",
      "\u001b[0;31mNameError\u001b[0m                                 Traceback (most recent call last)",
      "\u001b[0;32m<ipython-input-1-580856147dca>\u001b[0m in \u001b[0;36m<module>\u001b[0;34m()\u001b[0m\n\u001b[1;32m      1\u001b[0m \u001b[0;32mfrom\u001b[0m \u001b[0msklearn\u001b[0m\u001b[0;34m.\u001b[0m\u001b[0mpreprocessing\u001b[0m \u001b[0;32mimport\u001b[0m \u001b[0mLabelEncoder\u001b[0m\u001b[0;34m\u001b[0m\u001b[0m\n\u001b[1;32m      2\u001b[0m \u001b[0;34m\u001b[0m\u001b[0m\n\u001b[0;32m----> 3\u001b[0;31m \u001b[0mencoded_Tournament\u001b[0m \u001b[0;34m=\u001b[0m \u001b[0mlabel_encoder\u001b[0m\u001b[0;34m.\u001b[0m\u001b[0mfit_transform\u001b[0m\u001b[0;34m(\u001b[0m\u001b[0matp_train\u001b[0m\u001b[0;34m.\u001b[0m\u001b[0mTournament\u001b[0m\u001b[0;34m)\u001b[0m\u001b[0;34m\u001b[0m\u001b[0m\n\u001b[0m\u001b[1;32m      4\u001b[0m \u001b[0mencoded_Surface\u001b[0m \u001b[0;34m=\u001b[0m \u001b[0mlabel_encoder\u001b[0m\u001b[0;34m.\u001b[0m\u001b[0mfit_transform\u001b[0m\u001b[0;34m(\u001b[0m\u001b[0matp_train\u001b[0m\u001b[0;34m.\u001b[0m\u001b[0mSurface\u001b[0m\u001b[0;34m)\u001b[0m\u001b[0;34m\u001b[0m\u001b[0m\n\u001b[1;32m      5\u001b[0m \u001b[0mencoded_Winner\u001b[0m \u001b[0;34m=\u001b[0m \u001b[0mlabel_encoder\u001b[0m\u001b[0;34m.\u001b[0m\u001b[0mfit_transform\u001b[0m\u001b[0;34m(\u001b[0m\u001b[0matp_train\u001b[0m\u001b[0;34m.\u001b[0m\u001b[0mWinner\u001b[0m \u001b[0;34m==\u001b[0m \u001b[0;34m'Federer R.'\u001b[0m\u001b[0;34m)\u001b[0m\u001b[0;34m\u001b[0m\u001b[0m\n",
      "\u001b[0;31mNameError\u001b[0m: name 'label_encoder' is not defined"
     ]
    }
   ],
   "source": [
    "from sklearn.preprocessing import LabelEncoder\n",
    "\n",
    "encoded_Tournament = label_encoder.fit_transform(atp_train.Tournament)\n",
    "encoded_Surface = label_encoder.fit_transform(atp_train.Surface)\n",
    "encoded_Winner = label_encoder.fit_transform(atp_train.Winner == 'Federer R.')\n",
    "\n",
    "\n",
    "atp_train_x = pd.DataFrame([encoded_Tournament, encoded_Surface]).T\n",
    "atp_train_y = encoded_Winner\n",
    "\n",
    "#atp_train_y.head()"
   ]
  },
  {
   "cell_type": "markdown",
   "metadata": {},
   "source": [
    "## Machine Learning - Classification\n",
    "\n",
    "- Separate data to test and train"
   ]
  },
  {
   "cell_type": "code",
   "execution_count": 56,
   "metadata": {
    "collapsed": true
   },
   "outputs": [],
   "source": [
    "from sklearn.cross_validation import train_test_split\n",
    "\n",
    "\n",
    "train_X, test_X, train_y, test_y = train_test_split(atp_train_x, atp_train_y, test_size = 0.3)"
   ]
  },
  {
   "cell_type": "markdown",
   "metadata": {},
   "source": [
    "## Methdology\n",
    " - Sklearn metrics, tree\n",
    " - Predict Accuracy "
   ]
  },
  {
   "cell_type": "code",
   "execution_count": 57,
   "metadata": {
    "collapsed": false
   },
   "outputs": [
    {
     "name": "stdout",
     "output_type": "stream",
     "text": [
      "0.964492473948\n"
     ]
    }
   ],
   "source": [
    "from sklearn import metrics, tree\n",
    "\n",
    "# building model\n",
    "decison_clf = tree.DecisionTreeClassifier(random_state = 87)\n",
    "decison_clf.fit(train_X, train_y)\n",
    "\n",
    "# predict\n",
    "test_y_predicted = decison_clf.predict(test_X)\n",
    "\n",
    "# accuracy\n",
    "accuracy = metrics.accuracy_score(test_y, test_y_predicted)\n",
    "print(accuracy)"
   ]
  },
  {
   "cell_type": "markdown",
   "metadata": {},
   "source": []
  }
 ],
 "metadata": {
  "kernelspec": {
   "display_name": "Python 3",
   "language": "python",
   "name": "python3"
  },
  "language_info": {
   "codemirror_mode": {
    "name": "ipython",
    "version": 3
   },
   "file_extension": ".py",
   "mimetype": "text/x-python",
   "name": "python",
   "nbconvert_exporter": "python",
   "pygments_lexer": "ipython3",
   "version": "3.5.2"
  }
 },
 "nbformat": 4,
 "nbformat_minor": 1
}
